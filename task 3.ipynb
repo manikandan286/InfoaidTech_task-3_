{
  "cells": [
    {
      "cell_type": "code",
      "execution_count": null,
      "metadata": {
        "colab": {
          "base_uri": "https://localhost:8080/"
        },
        "id": "K_ZL6tqtdR2l",
        "outputId": "25a1b051-9062-428d-d3dc-29a3fca30088"
      },
      "outputs": [
        {
          "name": "stdout",
          "output_type": "stream",
          "text": [
            "Requirement already satisfied: textblob in /usr/local/lib/python3.10/dist-packages (0.17.1)\n",
            "Requirement already satisfied: nltk>=3.1 in /usr/local/lib/python3.10/dist-packages (from textblob) (3.8.1)\n",
            "Requirement already satisfied: click in /usr/local/lib/python3.10/dist-packages (from nltk>=3.1->textblob) (8.1.7)\n",
            "Requirement already satisfied: joblib in /usr/local/lib/python3.10/dist-packages (from nltk>=3.1->textblob) (1.3.2)\n",
            "Requirement already satisfied: regex>=2021.8.3 in /usr/local/lib/python3.10/dist-packages (from nltk>=3.1->textblob) (2023.6.3)\n",
            "Requirement already satisfied: tqdm in /usr/local/lib/python3.10/dist-packages (from nltk>=3.1->textblob) (4.66.1)\n"
          ]
        }
      ],
      "source": [
        "pip install textblob\n"
      ]
    },
    {
      "cell_type": "code",
      "execution_count": null,
      "metadata": {
        "colab": {
          "background_save": true,
          "base_uri": "https://localhost:8080/"
        },
        "id": "xxCbfpCpdegT",
        "outputId": "491722af-c317-408d-d4a9-d682deb5e609"
      },
      "outputs": [
        {
          "output_type": "stream",
          "name": "stdout",
          "text": [
            "Sentiment Analysis System\n",
            "Enter text for sentiment analysis (type 'exit' to quit): I love this product! It's amazing\n",
            "Sentiment: positive\n",
            "\n",
            "Enter text for sentiment analysis (type 'exit' to quit): I'm really disappointed with this service. It's terrible\n",
            "Sentiment: negative\n",
            "\n",
            "Enter text for sentiment analysis (type 'exit' to quit): The movie was okay, but not great\n",
            "Sentiment: positive\n",
            "\n",
            "Enter text for sentiment analysis (type 'exit' to quit): This restaurant has the best food I've ever had\n",
            "Sentiment: positive\n",
            "\n",
            "Enter text for sentiment analysis (type 'exit' to quit): The movie was okay, but not great I think\n",
            "Sentiment: positive\n",
            "\n"
          ]
        }
      ],
      "source": [
        "from textblob import TextBlob\n",
        "\n",
        "def analyze_sentiment(text):\n",
        "    analysis = TextBlob(text)\n",
        "    polarity = analysis.sentiment.polarity\n",
        "\n",
        "    if polarity > 0:\n",
        "        return \"positive\"\n",
        "    elif polarity < 0:\n",
        "        return \"negative\"\n",
        "    else:\n",
        "        return \"neutral\"\n",
        "\n",
        "def main():\n",
        "    print(\"Sentiment Analysis System\")\n",
        "\n",
        "    while True:\n",
        "        user_input = input(\"Enter text for sentiment analysis (type 'exit' to quit): \")\n",
        "\n",
        "        if user_input.lower() == 'exit':\n",
        "            print(\"Goodbye!\")\n",
        "            break\n",
        "\n",
        "        sentiment = analyze_sentiment(user_input)\n",
        "        print(f\"Sentiment: {sentiment}\\n\")\n",
        "\n",
        "if __name__ == \"__main__\":\n",
        "    main()\n"
      ]
    }
  ],
  "metadata": {
    "colab": {
      "provenance": []
    },
    "kernelspec": {
      "display_name": "Python 3",
      "name": "python3"
    },
    "language_info": {
      "name": "python"
    }
  },
  "nbformat": 4,
  "nbformat_minor": 0
}